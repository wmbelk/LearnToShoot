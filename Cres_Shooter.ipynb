{
 "cells": [
  {
   "cell_type": "code",
   "execution_count": 2,
   "metadata": {},
   "outputs": [],
   "source": [
    "import pandas as pd\n",
    "import numpy as np\n",
    "import matplotlib.pyplot as plt\n",
    "import seaborn as sns\n",
    "import pymc as pm\n",
    "\n",
    "rng = np.random.RandomState(123)\n"
   ]
  },
  {
   "cell_type": "markdown",
   "metadata": {},
   "source": [
    "# Learn To Shoot\n",
    "\n",
    "Target on the wall above april tags.\n",
    "\n",
    "projectile is an approximatly 12in diameter donut.\n",
    "\n",
    "Robot on feild, with angeled arm, at end of arm are in-line flaps\n",
    "\n",
    "Robot has limelight vision above the front bumper. it can identify april tags and report the ???"
   ]
  },
  {
   "cell_type": "code",
   "execution_count": 1,
   "metadata": {},
   "outputs": [
    {
     "ename": "NameError",
     "evalue": "name 'pm' is not defined",
     "output_type": "error",
     "traceback": [
      "\u001b[1;31m---------------------------------------------------------------------------\u001b[0m",
      "\u001b[1;31mNameError\u001b[0m                                 Traceback (most recent call last)",
      "Cell \u001b[1;32mIn[1], line 1\u001b[0m\n\u001b[1;32m----> 1\u001b[0m \u001b[38;5;28;01mwith\u001b[39;00m \u001b[43mpm\u001b[49m\u001b[38;5;241m.\u001b[39mModel() \u001b[38;5;28;01mas\u001b[39;00m generate:\n\u001b[0;32m      2\u001b[0m     \u001b[38;5;66;03m# Priors\u001b[39;00m\n\u001b[0;32m      3\u001b[0m     \u001b[38;5;28;01mpass\u001b[39;00m\n\u001b[0;32m      5\u001b[0m     \u001b[38;5;66;03m#\u001b[39;00m\n",
      "\u001b[1;31mNameError\u001b[0m: name 'pm' is not defined"
     ]
    }
   ],
   "source": [
    "with pm.Model() as generate:\n",
    "    # Priors\n",
    "\n",
    "\n",
    "    #Data mutable\n",
    "    Ad = pm.MutableData(rng.uniform(0, 100, 100))\n",
    "    Ah = pm.MutableData(rng.uniform(0, 100, 100))  # height of april tag in meters\n",
    "    Vo = pm.Uniform('Vo', lower=0, upper=100)\n",
    "    #theta = pm.Uniform('theta', lower=-np.pi(), upper=np.pi(), transform='circular')\n",
    "    alphaA = pm.Uniform('alphaA', lower=-np.pi(), upper=np.pi(), transform='circular')\n",
    "    betaF = pm.Normal('BetaF', mu=0, sd=1) #BetaF is the conv to effective flap angle of the flaps from the center line of the shooter; assuming equal on both sides\n",
    "    alphaF = pm.Uniform('alphaF', lower=-np.pi(), upper=np.pi(), transform='circular')\n",
    "    alphaR = pm.Uniform('alphaR', lower=-np.pi(), upper=np.pi(), transform='circular')\n",
    "\n",
    "    # use pathagorean theorem to solve for ground distance from april tag\n",
    "    # d = sqrt(Ad^2 - Ah^2); Ad is straight line hypthosnuse, Ah is height of april tag\n",
    "    d = pm.math.sqrt(Ad**2 - Ah**2)\n",
    "    # trajectory equation solved for time\n",
    "    # d = Vo * cos(theta) * t\n",
    "    t = d / (Vo * pm.math.cos(alphaA))\n",
    "    # trajectory equation solved for height\n",
    "    # h = Vo * sin(theta) * t - 0.5 * g * t**2\n",
    "    h = Vo * pm.math.sin(alphaA) * t - 0.5 * g * t**2\n",
    "\n",
    "    #Shooter height using lenght of arm (La) and angle of arm (alphaA)\n",
    "    Sh = La * pm.math.sin(alphaA)\n",
    "    Th_sim = h + Sh\n",
    "\n",
    "    #angular error to lead to horizontal error\n",
    "    #Talpha is the angle of the target from the center of the shooter\n",
    "    alphaFprime = betaF * alphaF * (1- alphaA/np.pi())\n",
    "    Talpha = alphaR + alphaFprime\n",
    "\n",
    "\n"
   ]
  },
  {
   "cell_type": "code",
   "execution_count": null,
   "metadata": {},
   "outputs": [],
   "source": []
  }
 ],
 "metadata": {
  "kernelspec": {
   "display_name": "pymc_01Oct23_py311",
   "language": "python",
   "name": "python3"
  },
  "language_info": {
   "codemirror_mode": {
    "name": "ipython",
    "version": 3
   },
   "file_extension": ".py",
   "mimetype": "text/x-python",
   "name": "python",
   "nbconvert_exporter": "python",
   "pygments_lexer": "ipython3",
   "version": "3.11.5"
  }
 },
 "nbformat": 4,
 "nbformat_minor": 2
}
